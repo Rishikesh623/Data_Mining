{
  "nbformat": 4,
  "nbformat_minor": 0,
  "metadata": {
    "colab": {
      "provenance": [],
      "authorship_tag": "ABX9TyM6Gi/XAjPhs/Ey2zbnpyZv",
      "include_colab_link": true
    },
    "kernelspec": {
      "name": "python3",
      "display_name": "Python 3"
    },
    "language_info": {
      "name": "python"
    }
  },
  "cells": [
    {
      "cell_type": "markdown",
      "metadata": {
        "id": "view-in-github",
        "colab_type": "text"
      },
      "source": [
        "<a href=\"https://colab.research.google.com/github/Rishikesh623/Data_Mining/blob/main/SVM_classfier.ipynb\" target=\"_parent\"><img src=\"https://colab.research.google.com/assets/colab-badge.svg\" alt=\"Open In Colab\"/></a>"
      ]
    },
    {
      "cell_type": "code",
      "execution_count": null,
      "metadata": {
        "id": "N3PsCougfVG-"
      },
      "outputs": [],
      "source": [
        "import pandas as pd\n",
        "import numpy as np\n",
        "from sklearn.svm import SVC"
      ]
    },
    {
      "cell_type": "code",
      "source": [
        "df = pd.read_csv('iris.csv')"
      ],
      "metadata": {
        "id": "kHzldYxgfa44"
      },
      "execution_count": null,
      "outputs": []
    },
    {
      "cell_type": "code",
      "source": [
        "X = df.iloc[:, :-1]\n",
        "y = df.iloc[:, -1]"
      ],
      "metadata": {
        "id": "-AGmzEwEgKJh"
      },
      "execution_count": null,
      "outputs": []
    },
    {
      "cell_type": "code",
      "source": [
        "def train_test_split(df, test_ratio=0.2):\n",
        "    n = len(df)\n",
        "    test_size = int(n * test_ratio)\n",
        "    train_data = df.iloc[:n - test_size]\n",
        "    test_data = df.iloc[n - test_size:]\n",
        "    return train_data, test_data"
      ],
      "metadata": {
        "id": "nu9uA6dhgM84"
      },
      "execution_count": null,
      "outputs": []
    },
    {
      "cell_type": "code",
      "source": [
        "train_data, test_data = train_test_split(df, test_ratio=0.2)\n",
        "X_train = train_data.iloc[:, :-1]\n",
        "y_train = train_data.iloc[:, -1]\n",
        "X_test = test_data.iloc[:, :-1]\n",
        "y_test = test_data.iloc[:, -1]"
      ],
      "metadata": {
        "id": "Bk-0Hbc4gP_X"
      },
      "execution_count": null,
      "outputs": []
    },
    {
      "cell_type": "code",
      "source": [
        "svm = SVC(kernel='linear', C=1.0)\n",
        "svm.fit(X_train, y_train)\n",
        "\n",
        "train_pred = svm.predict(X_train)\n",
        "test_pred = svm.predict(X_test)\n",
        "\n",
        "train_accuracy = np.mean(train_pred == y_train) * 100\n",
        "test_accuracy = np.mean(test_pred == y_test) * 100\n",
        "\n",
        "print(f\"Training Accuracy: {train_accuracy:.2f}%\")\n",
        "print(f\"Test Accuracy: {test_accuracy:.2f}%\")"
      ],
      "metadata": {
        "colab": {
          "base_uri": "https://localhost:8080/"
        },
        "collapsed": true,
        "id": "l8Ja35mogR3-",
        "outputId": "2975b620-4011-48f4-808f-d3dabc3d83d0"
      },
      "execution_count": null,
      "outputs": [
        {
          "output_type": "stream",
          "name": "stdout",
          "text": [
            "Training Accuracy: 99.17%\n",
            "Test Accuracy: 86.67%\n"
          ]
        }
      ]
    },
    {
      "cell_type": "code",
      "source": [
        "# k‑NN:\n",
        "# Despite perfect training accuracy (especially with\n",
        "# 𝑘\n",
        "# =\n",
        "# 1\n",
        "# k=1), it overfits and generalizes poorly to unseen data.\n",
        "\n",
        "# Decision Tree vs. Random Forest:\n",
        "# A single Decision Tree can perform well, but it may overfit to some extent. The Random Forest, by combining multiple trees, usually improves generalization and yields slightly higher accuracy by reducing variance.\n",
        "\n",
        "# SVM:\n",
        "# The SVM classifier typically provides excellent accuracy on the Iris dataset. With its ability to maximize margins and use non‑linear kernels, it often achieves high test accuracy and is robust against overfitting\n"
      ],
      "metadata": {
        "id": "dD63O6LkgTzA"
      },
      "execution_count": null,
      "outputs": []
    },
    {
      "cell_type": "code",
      "source": [
        "def MinMaxScaler(X):\n",
        "  X_scaled = (X - X.min()) / (X.max() - X.min())\n",
        "  return X_scaled"
      ],
      "metadata": {
        "id": "6mWYQ0Cvg0Pw"
      },
      "execution_count": null,
      "outputs": []
    },
    {
      "cell_type": "code",
      "source": [
        "scaled_data = MinMaxScaler(df.iloc[:,:-1])\n",
        "scaled_data['variety'] = df['variety']"
      ],
      "metadata": {
        "id": "UfS0YUw2i1El"
      },
      "execution_count": null,
      "outputs": []
    },
    {
      "cell_type": "code",
      "source": [
        "train_data, test_data = train_test_split(scaled_data, test_ratio=0.2)\n",
        "X_train = train_data.iloc[:, :-1]\n",
        "y_train = train_data.iloc[:, -1]\n",
        "X_test = test_data.iloc[:, :-1]\n",
        "y_test = test_data.iloc[:, -1]\n",
        "\n",
        "svm = SVC(kernel='linear', C=1.0)\n",
        "svm.fit(X_train, y_train)\n",
        "\n",
        "train_pred = svm.predict(X_train)\n",
        "test_pred = svm.predict(X_test)\n",
        "\n",
        "train_accuracy = np.mean(train_pred == y_train) * 100\n",
        "test_accuracy = np.mean(test_pred == y_test) * 100\n",
        "\n",
        "print(f\"Training Accuracy: {train_accuracy:.2f}%\")\n",
        "print(f\"Test Accuracy: {test_accuracy:.2f}%\")"
      ],
      "metadata": {
        "colab": {
          "base_uri": "https://localhost:8080/"
        },
        "id": "MnxLXJSOi22s",
        "outputId": "a1acd963-d0c1-4b78-847b-420a298b0b34"
      },
      "execution_count": null,
      "outputs": [
        {
          "output_type": "stream",
          "name": "stdout",
          "text": [
            "Training Accuracy: 96.67%\n",
            "Test Accuracy: 60.00%\n"
          ]
        }
      ]
    },
    {
      "cell_type": "code",
      "source": [
        "from sklearn.model_selection import cross_val_score\n",
        "cv_scores = cross_val_score(svm, X, y, cv=5)\n",
        "\n",
        "print(\"Mean cross-validation accuracy: {:.2f}%\".format(np.mean(cv_scores) * 100))"
      ],
      "metadata": {
        "colab": {
          "base_uri": "https://localhost:8080/"
        },
        "id": "ToEMOLfzjCDp",
        "outputId": "7564c4a1-f3d3-405c-cfa3-d37a7a98932a"
      },
      "execution_count": null,
      "outputs": [
        {
          "output_type": "stream",
          "name": "stdout",
          "text": [
            "Mean cross-validation accuracy: 98.00%\n"
          ]
        }
      ]
    },
    {
      "cell_type": "code",
      "source": [
        "\n",
        "cv_scores = cross_val_score(svm, X, y, cv=4) # 4 folds\n",
        "\n",
        "print(\"Mean cross-validation accuracy: {:.2f}%\".format(np.mean(cv_scores) * 100))"
      ],
      "metadata": {
        "colab": {
          "base_uri": "https://localhost:8080/"
        },
        "id": "hGlUPLlVls-I",
        "outputId": "e003b173-0b96-42e7-9e1d-8ec60ec44736"
      },
      "execution_count": null,
      "outputs": [
        {
          "output_type": "stream",
          "name": "stdout",
          "text": [
            "Mean cross-validation accuracy: 97.99%\n"
          ]
        }
      ]
    },
    {
      "cell_type": "code",
      "source": [
        "from sklearn.metrics import precision_score, recall_score, f1_score\n",
        "\n",
        "def compute_classification_stats(y_true, y_pred):\n",
        "    precision = precision_score(y_true, y_pred, average='weighted')\n",
        "    recall = recall_score(y_true, y_pred, average='weighted')\n",
        "    f1 = f1_score(y_true, y_pred, average='weighted')\n",
        "\n",
        "    print(f\"Precision: {precision:.4f}\")\n",
        "    print(f\"Recall:    {recall:.4f}\")\n",
        "    print(f\"F1 Score:  {f1:.4f}\")\n",
        "\n",
        "    return {\"precision\": precision, \"recall\": recall, \"f1\": f1}\n"
      ],
      "metadata": {
        "id": "a8jptLmym-hO"
      },
      "execution_count": null,
      "outputs": []
    },
    {
      "cell_type": "code",
      "source": [
        "#SVM\n",
        "X_test = test_data.iloc[:, :-1]\n",
        "test_pred = svm.predict(X_test)\n",
        "compute_classification_stats(y_test, test_pred)"
      ],
      "metadata": {
        "colab": {
          "base_uri": "https://localhost:8080/"
        },
        "id": "GqRVosqko9KP",
        "outputId": "898e95a8-3980-407d-8f91-01e39c0b00b2"
      },
      "execution_count": null,
      "outputs": [
        {
          "output_type": "stream",
          "name": "stdout",
          "text": [
            "Precision: 1.0000\n",
            "Recall:    0.6000\n",
            "F1 Score:  0.7500\n"
          ]
        },
        {
          "output_type": "stream",
          "name": "stderr",
          "text": [
            "/usr/local/lib/python3.11/dist-packages/sklearn/metrics/_classification.py:1565: UndefinedMetricWarning: Recall is ill-defined and being set to 0.0 in labels with no true samples. Use `zero_division` parameter to control this behavior.\n",
            "  _warn_prf(average, modifier, f\"{metric.capitalize()} is\", len(result))\n"
          ]
        },
        {
          "output_type": "execute_result",
          "data": {
            "text/plain": [
              "{'precision': 1.0, 'recall': 0.6, 'f1': 0.75}"
            ]
          },
          "metadata": {},
          "execution_count": 54
        }
      ]
    },
    {
      "cell_type": "code",
      "source": [],
      "metadata": {
        "id": "RYYwptZSpQfB"
      },
      "execution_count": null,
      "outputs": []
    }
  ]
}