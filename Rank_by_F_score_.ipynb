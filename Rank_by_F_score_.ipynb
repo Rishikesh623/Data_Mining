{
  "nbformat": 4,
  "nbformat_minor": 0,
  "metadata": {
    "colab": {
      "provenance": [],
      "authorship_tag": "ABX9TyNU/SkAuqdvwQUsx4YDSTZ8",
      "include_colab_link": true
    },
    "kernelspec": {
      "name": "python3",
      "display_name": "Python 3"
    },
    "language_info": {
      "name": "python"
    }
  },
  "cells": [
    {
      "cell_type": "markdown",
      "metadata": {
        "id": "view-in-github",
        "colab_type": "text"
      },
      "source": [
        "<a href=\"https://colab.research.google.com/github/Rishikesh623/Data_Mining/blob/main/Rank_by_F_score_.ipynb\" target=\"_parent\"><img src=\"https://colab.research.google.com/assets/colab-badge.svg\" alt=\"Open In Colab\"/></a>"
      ]
    },
    {
      "cell_type": "code",
      "source": [
        "import pandas as pd"
      ],
      "metadata": {
        "id": "hy-HsEpG2CYd"
      },
      "execution_count": null,
      "outputs": []
    },
    {
      "cell_type": "code",
      "source": [
        "df = pd.read_csv(\"page_blocks.csv\")"
      ],
      "metadata": {
        "id": "_8JByVlK2H-d"
      },
      "execution_count": null,
      "outputs": []
    },
    {
      "cell_type": "code",
      "source": [
        "def rank_by_f_score(df,k):\n",
        "    class_att = df[\"class\"]\n",
        "\n",
        "    unique_classes = class_att.unique()\n",
        "    target = (class_att == unique_classes[0]).astype(int)\n",
        "    df[\"class\"] = target\n",
        "    class_1 = 1\n",
        "    class_2 = 0\n",
        "    positive_df = df[(df[\"class\"]==class_1)]\n",
        "    negative_df = df[(df[\"class\"]==class_2)]\n",
        "    m1 = positive_df.mean()\n",
        "    m2= negative_df.mean()\n",
        "    std1=positive_df.std()\n",
        "    std2=negative_df.std()\n",
        "\n",
        "    ndf =pd.DataFrame(columns=[\"mean1\",\"mean2\",\"std1\",\"std2\"])\n",
        "    ndf['mean1']=m1\n",
        "    ndf['mean2']=m2\n",
        "    ndf['std1']=std1\n",
        "    ndf['std2']=std2\n",
        "\n",
        "    ndf[\"f_score\"] = (ndf[\"mean1\"]**2 - ndf[\"mean2\"]**2)/(ndf[\"std1\"]+ndf[\"std2\"])\n",
        "\n",
        "    ndf = ndf.sort_values(\"f_score\",ascending=False)\n",
        "\n",
        "    ndf[\"rank\"] =  ndf[\"f_score\"].rank(method='max', ascending=False)\n",
        "\n",
        "    if(k!=-1):\n",
        "       print(ndf.head(k))\n",
        "       return\n",
        "\n",
        "    print(ndf)\n",
        "    return"
      ],
      "metadata": {
        "id": "fp9dDDqf2KiU"
      },
      "execution_count": null,
      "outputs": []
    },
    {
      "cell_type": "code",
      "source": [
        "rank_by_f_score(df,-1)"
      ],
      "metadata": {
        "colab": {
          "base_uri": "https://localhost:8080/"
        },
        "id": "pVL_v69w2Lo5",
        "outputId": "28587eec-f6ea-49ee-f889-468a895afe23"
      },
      "execution_count": null,
      "outputs": [
        {
          "output_type": "stream",
          "name": "stdout",
          "text": [
            "               mean1        mean2         std1          std2     f_score  rank\n",
            "class       1.000000     0.000000     0.000000      0.000000         inf   1.0\n",
            "wb_trans  109.090169    85.367857   139.524859    320.070968   10.037067   2.0\n",
            "p_and       0.788392     0.755754     0.152817      0.280964    0.116185   3.0\n",
            "p_black     0.343385     0.590234     0.131729      0.319418   -0.510838   4.0\n",
            "mean_tr     3.028687    34.211018     5.915897    213.377278   -5.295289   5.0\n",
            "height      9.132302    22.237500     4.913088     56.147891   -6.732736   6.0\n",
            "length     87.255038   109.862500   108.650237    156.978221  -16.776543   7.0\n",
            "eccen       9.937869    47.233509    14.032077     79.038877  -22.909867   8.0\n",
            "blackpix  302.253002   924.589286   652.389987   3421.784407 -187.402010   9.0\n",
            "blackand  670.416853  1361.298214  1094.593121   4867.845199 -235.419470  10.0\n",
            "area      951.303888  3366.282143  1620.980190  14207.986410 -658.721232  11.0\n"
          ]
        }
      ]
    },
    {
      "cell_type": "code",
      "source": [
        "rank_by_f_score(df,6)"
      ],
      "metadata": {
        "colab": {
          "base_uri": "https://localhost:8080/"
        },
        "id": "3EF9mbKJ2OXx",
        "outputId": "0b2be036-7fa7-417e-b2d3-129992d53ffd"
      },
      "execution_count": null,
      "outputs": [
        {
          "output_type": "stream",
          "name": "stdout",
          "text": [
            "               mean1      mean2        std1        std2    f_score  rank\n",
            "class       1.000000   0.000000    0.000000    0.000000        inf   1.0\n",
            "wb_trans  109.090169  85.367857  139.524859  320.070968  10.037067   2.0\n",
            "p_and       0.788392   0.755754    0.152817    0.280964   0.116185   3.0\n",
            "p_black     0.343385   0.590234    0.131729    0.319418  -0.510838   4.0\n",
            "mean_tr     3.028687  34.211018    5.915897  213.377278  -5.295289   5.0\n",
            "height      9.132302  22.237500    4.913088   56.147891  -6.732736   6.0\n"
          ]
        }
      ]
    },
    {
      "cell_type": "code",
      "source": [],
      "metadata": {
        "id": "sBx7qBtY53q-"
      },
      "execution_count": null,
      "outputs": []
    }
  ]
}