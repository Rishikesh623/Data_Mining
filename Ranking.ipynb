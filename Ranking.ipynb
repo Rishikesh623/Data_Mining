{
  "nbformat": 4,
  "nbformat_minor": 0,
  "metadata": {
    "colab": {
      "provenance": [],
      "authorship_tag": "ABX9TyPvVzQ1hFvUrqPuOCwjYBu5",
      "include_colab_link": true
    },
    "kernelspec": {
      "name": "python3",
      "display_name": "Python 3"
    },
    "language_info": {
      "name": "python"
    }
  },
  "cells": [
    {
      "cell_type": "markdown",
      "metadata": {
        "id": "view-in-github",
        "colab_type": "text"
      },
      "source": [
        "<a href=\"https://colab.research.google.com/github/Rishikesh623/Data_Mining/blob/main/Ranking.ipynb\" target=\"_parent\"><img src=\"https://colab.research.google.com/assets/colab-badge.svg\" alt=\"Open In Colab\"/></a>"
      ]
    },
    {
      "cell_type": "code",
      "source": [
        "import pandas as pd"
      ],
      "metadata": {
        "id": "6sIeAs-c47Tc"
      },
      "execution_count": null,
      "outputs": []
    },
    {
      "cell_type": "code",
      "execution_count": null,
      "metadata": {
        "id": "DNULHM9Zzrns"
      },
      "outputs": [],
      "source": [
        "df = pd.read_csv(\"datasheet.csv\")"
      ]
    },
    {
      "cell_type": "code",
      "source": [
        "sensitivity_scores = df.iloc[:, 1:]"
      ],
      "metadata": {
        "id": "FEwdGfds46A_"
      },
      "execution_count": null,
      "outputs": []
    },
    {
      "cell_type": "code",
      "source": [
        "ranked_scores = sensitivity_scores.rank(method='min', ascending=False, axis=1)"
      ],
      "metadata": {
        "id": "0Q_IIKFp5FHi"
      },
      "execution_count": null,
      "outputs": []
    },
    {
      "cell_type": "code",
      "source": [
        "ranked_df = pd.concat([df.iloc[:, 0], ranked_scores], axis=1)"
      ],
      "metadata": {
        "id": "hGdrwN2M5IG9"
      },
      "execution_count": null,
      "outputs": []
    },
    {
      "cell_type": "code",
      "source": [
        "print(\"Ranked Sensitivity Scores:\\n\", ranked_df)"
      ],
      "metadata": {
        "colab": {
          "base_uri": "https://localhost:8080/"
        },
        "id": "cDxw6LlB5V4s",
        "outputId": "8eeaf4a2-42ed-4a23-db4b-9618c619855e"
      },
      "execution_count": null,
      "outputs": [
        {
          "output_type": "stream",
          "name": "stdout",
          "text": [
            "Ranked Sensitivity Scores:\n",
            "      Dataset  ENN  AllKNN  SMOTE\n",
            "0       Pima  1.0     2.0    3.0\n",
            "1      Glass  1.0     1.0    3.0\n",
            "2  Wisconsin  1.0     1.0    1.0\n"
          ]
        }
      ]
    },
    {
      "cell_type": "code",
      "source": [
        "average_rank = ranked_scores.mean()"
      ],
      "metadata": {
        "id": "wNePoJsH5Ysw"
      },
      "execution_count": null,
      "outputs": []
    },
    {
      "cell_type": "code",
      "source": [
        "print(\"\\nAverage Sensitivity Rank:\\n\", average_rank)"
      ],
      "metadata": {
        "colab": {
          "base_uri": "https://localhost:8080/"
        },
        "id": "Y-pB4f6g5cIi",
        "outputId": "f7fe44e4-a770-4cb9-93b9-4d36c9038d7f"
      },
      "execution_count": null,
      "outputs": [
        {
          "output_type": "stream",
          "name": "stdout",
          "text": [
            "\n",
            "Average Sensitivity Rank:\n",
            " ENN       1.000000\n",
            "AllKNN    1.333333\n",
            "SMOTE     2.333333\n",
            "dtype: float64\n"
          ]
        }
      ]
    },
    {
      "cell_type": "code",
      "source": [
        "print(f\"\\nHighest Performing Method: {average_rank.idxmin()}\")\n",
        "print(f\"Lowest Performing Method: {average_rank.idxmax()}\")"
      ],
      "metadata": {
        "colab": {
          "base_uri": "https://localhost:8080/"
        },
        "id": "jxZmUl585fEq",
        "outputId": "d8cec36e-64df-4db3-bc13-9cd930641cdb"
      },
      "execution_count": null,
      "outputs": [
        {
          "output_type": "stream",
          "name": "stdout",
          "text": [
            "\n",
            "Highest Performing Method: ENN\n",
            "Lowest Performing Method: SMOTE\n"
          ]
        }
      ]
    }
  ]
}