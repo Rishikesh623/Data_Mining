{
  "nbformat": 4,
  "nbformat_minor": 0,
  "metadata": {
    "colab": {
      "provenance": [],
      "authorship_tag": "ABX9TyPm5qFAMASCGTSi3yVhvfTJ",
      "include_colab_link": true
    },
    "kernelspec": {
      "name": "python3",
      "display_name": "Python 3"
    },
    "language_info": {
      "name": "python"
    }
  },
  "cells": [
    {
      "cell_type": "markdown",
      "metadata": {
        "id": "view-in-github",
        "colab_type": "text"
      },
      "source": [
        "<a href=\"https://colab.research.google.com/github/Rishikesh623/Data_Mining/blob/main/Naive_Bayes_Classifier.ipynb\" target=\"_parent\"><img src=\"https://colab.research.google.com/assets/colab-badge.svg\" alt=\"Open In Colab\"/></a>"
      ]
    },
    {
      "cell_type": "code",
      "execution_count": null,
      "metadata": {
        "id": "NTaty0s791c1"
      },
      "outputs": [],
      "source": [
        "import pandas as pd\n",
        "import math"
      ]
    },
    {
      "cell_type": "code",
      "source": [
        "df = pd.read_csv('iris.csv')"
      ],
      "metadata": {
        "id": "REOLwN-NARAr"
      },
      "execution_count": null,
      "outputs": []
    },
    {
      "cell_type": "code",
      "source": [
        "def train_naive_bayes(X_train,y_train):\n",
        "    df = X_train\n",
        "    df['target'] = y_train\n",
        "    classes = df.iloc[:, -1].unique()\n",
        "    stats = {}\n",
        "    for c in classes:\n",
        "        subset = df[df.iloc[:, -1] == c]\n",
        "        features = subset.iloc[:, :-1]\n",
        "        means = features.mean()\n",
        "        variances = features.var()\n",
        "        prior = len(subset) / len(df)\n",
        "        stats[c] = {\"mean\": means, \"var\": variances, \"prior\": prior}\n",
        "    return stats"
      ],
      "metadata": {
        "id": "HxJs8iQCAKrL"
      },
      "execution_count": null,
      "outputs": []
    },
    {
      "cell_type": "code",
      "source": [
        "def gaussian_prob(x, mean, var):\n",
        "\n",
        "    if var == 0:\n",
        "        var = 1e-6\n",
        "\n",
        "    exponent = math.exp(-((x - mean) ** 2) / (2 * var))\n",
        "    return (1 / math.sqrt(2 * math.pi * var)) * exponent"
      ],
      "metadata": {
        "id": "Nmh67i6qAMJi"
      },
      "execution_count": null,
      "outputs": []
    },
    {
      "cell_type": "code",
      "source": [
        "def predict_naive_bayes(stats, row):\n",
        "    best_label = None\n",
        "    best_prob = -1\n",
        "    for c, stats_c in stats.items():\n",
        "        prob = stats_c[\"prior\"]\n",
        "        for feature in row.index:\n",
        "            prob *= gaussian_prob(row[feature], stats_c[\"mean\"][feature], stats_c[\"var\"][feature])\n",
        "        if best_label is None or prob > best_prob:\n",
        "            best_prob = prob\n",
        "            best_label = c\n",
        "    return best_label"
      ],
      "metadata": {
        "id": "s6RW6CIuANi7"
      },
      "execution_count": null,
      "outputs": []
    },
    {
      "cell_type": "code",
      "source": [
        "def cal_accuracy(stats, X_test,y_test):\n",
        "    df = X_test\n",
        "    df['target'] = y_test\n",
        "    correct = 0\n",
        "    for i in range(len(df)):\n",
        "        row = df.iloc[i, :-1]\n",
        "        actual = df.iloc[i, -1]\n",
        "        predicted = predict_naive_bayes(stats, row)\n",
        "        if predicted == actual:\n",
        "            correct += 1\n",
        "    return (correct / len(df)) * 100"
      ],
      "metadata": {
        "id": "r4UWDveDAOuC"
      },
      "execution_count": null,
      "outputs": []
    },
    {
      "cell_type": "code",
      "source": [
        "from sklearn.model_selection import train_test_split\n",
        "\n",
        "X = df.iloc[:, :-1]  # features\n",
        "y = df.iloc[:, -1]   # target labels\n",
        "\n",
        "X_train, X_test, y_train, y_test = train_test_split(X, y, test_size=0.6, random_state=42)\n",
        "\n",
        "print(\"Training set size:\", X_train.shape)\n",
        "print(\"Test set size:\", X_test.shape)\n"
      ],
      "metadata": {
        "colab": {
          "base_uri": "https://localhost:8080/"
        },
        "id": "Pu-ierPlAfMS",
        "outputId": "fef6caa5-0d5e-41a7-a367-bb5eace6fa6c"
      },
      "execution_count": null,
      "outputs": [
        {
          "output_type": "stream",
          "name": "stdout",
          "text": [
            "Training set size: (60, 4)\n",
            "Test set size: (90, 4)\n"
          ]
        }
      ]
    },
    {
      "cell_type": "code",
      "source": [
        "#train\n",
        "stats = train_naive_bayes(X_train,y_train)"
      ],
      "metadata": {
        "id": "VpV9mleWB4U0"
      },
      "execution_count": null,
      "outputs": []
    },
    {
      "cell_type": "code",
      "source": [
        "accuracy = cal_accuracy(stats, X_test,y_test)\n",
        "print(f\"Naïve Bayes Accuracy: {accuracy:.2f}%\")"
      ],
      "metadata": {
        "colab": {
          "base_uri": "https://localhost:8080/"
        },
        "id": "iDOoSuioBAsF",
        "outputId": "58d677fa-10d7-4e28-fe54-b72df88a96db"
      },
      "execution_count": null,
      "outputs": [
        {
          "output_type": "stream",
          "name": "stdout",
          "text": [
            "Naïve Bayes Accuracy: 95.56%\n"
          ]
        }
      ]
    },
    {
      "cell_type": "code",
      "source": [],
      "metadata": {
        "id": "9VhWOjdhBEeX"
      },
      "execution_count": null,
      "outputs": []
    }
  ]
}